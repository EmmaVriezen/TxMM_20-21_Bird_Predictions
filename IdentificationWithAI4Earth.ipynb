{
 "cells": [
  {
   "cell_type": "markdown",
   "metadata": {},
   "source": [
    "# Retrieving species predictions from AI4Earth\n",
    "## By Emma Vriezen | Created on: 2020-12-21 | Last edit on: 2021-01-18"
   ]
  },
  {
   "cell_type": "code",
   "execution_count": 46,
   "metadata": {},
   "outputs": [],
   "source": [
    "# Imports:\n",
    "import pandas as pd  # DataFrames\n",
    "import numpy as np  # Nice functions\n",
    "import requests as rq  # Send HTTP requests to servers\n",
    "import re  # Regular expressions\n",
    "import time # Sleep function to allow for waiting between requests\n",
    "from PIL import Image  # Store an image that is downloaded from Waarneming\n",
    "from io import StringIO, BytesIO, BufferedReader  # To convert a string that describes bytes into interpretable IO\n"
   ]
  },
  {
   "cell_type": "code",
   "execution_count": 2,
   "metadata": {},
   "outputs": [
    {
     "data": {
      "text/html": [
       "<div>\n",
       "<style scoped>\n",
       "    .dataframe tbody tr th:only-of-type {\n",
       "        vertical-align: middle;\n",
       "    }\n",
       "\n",
       "    .dataframe tbody tr th {\n",
       "        vertical-align: top;\n",
       "    }\n",
       "\n",
       "    .dataframe thead th {\n",
       "        text-align: right;\n",
       "    }\n",
       "</style>\n",
       "<table border=\"1\" class=\"dataframe\">\n",
       "  <thead>\n",
       "    <tr style=\"text-align: right;\">\n",
       "      <th></th>\n",
       "      <th>Species</th>\n",
       "      <th>Scientific</th>\n",
       "      <th>ID</th>\n",
       "    </tr>\n",
       "  </thead>\n",
       "  <tbody>\n",
       "    <tr>\n",
       "      <th>0</th>\n",
       "      <td>Dodaars</td>\n",
       "      <td>Tachybaptus ruficollis</td>\n",
       "      <td>2</td>\n",
       "    </tr>\n",
       "    <tr>\n",
       "      <th>1</th>\n",
       "      <td>Fuut</td>\n",
       "      <td>Podiceps cristatus</td>\n",
       "      <td>91</td>\n",
       "    </tr>\n",
       "    <tr>\n",
       "      <th>2</th>\n",
       "      <td>Roodhalsfuut</td>\n",
       "      <td>Podiceps grisegena</td>\n",
       "      <td>367</td>\n",
       "    </tr>\n",
       "    <tr>\n",
       "      <th>3</th>\n",
       "      <td>Geoorde Fuut</td>\n",
       "      <td>Podiceps nigricollis</td>\n",
       "      <td>3</td>\n",
       "    </tr>\n",
       "    <tr>\n",
       "      <th>4</th>\n",
       "      <td>Aalscholver</td>\n",
       "      <td>Phalacrocorax carbo</td>\n",
       "      <td>58</td>\n",
       "    </tr>\n",
       "  </tbody>\n",
       "</table>\n",
       "</div>"
      ],
      "text/plain": [
       "        Species              Scientific   ID\n",
       "0       Dodaars  Tachybaptus ruficollis    2\n",
       "1          Fuut      Podiceps cristatus   91\n",
       "2  Roodhalsfuut      Podiceps grisegena  367\n",
       "3  Geoorde Fuut    Podiceps nigricollis    3\n",
       "4   Aalscholver     Phalacrocorax carbo   58"
      ]
     },
     "execution_count": 2,
     "metadata": {},
     "output_type": "execute_result"
    }
   ],
   "source": [
    "# Import the bird data, which is now merely a list of 298 species:\n",
    "db_path = r\"C:\\Users\\emmav\\Documents\\AI Master year 1\\TMM\\Project\\BirdIDs.txt\"\n",
    "db = pd.read_csv(db_path, header=0)\n",
    "db.head()\n"
   ]
  },
  {
   "cell_type": "markdown",
   "metadata": {},
   "source": [
    "### Check which of these species the classifier is traind on:"
   ]
  },
  {
   "cell_type": "code",
   "execution_count": 3,
   "metadata": {},
   "outputs": [
    {
     "data": {
      "text/html": [
       "<div>\n",
       "<style scoped>\n",
       "    .dataframe tbody tr th:only-of-type {\n",
       "        vertical-align: middle;\n",
       "    }\n",
       "\n",
       "    .dataframe tbody tr th {\n",
       "        vertical-align: top;\n",
       "    }\n",
       "\n",
       "    .dataframe thead th {\n",
       "        text-align: right;\n",
       "    }\n",
       "</style>\n",
       "<table border=\"1\" class=\"dataframe\">\n",
       "  <thead>\n",
       "    <tr style=\"text-align: right;\">\n",
       "      <th></th>\n",
       "      <th>Scientific</th>\n",
       "    </tr>\n",
       "  </thead>\n",
       "  <tbody>\n",
       "    <tr>\n",
       "      <th>0</th>\n",
       "      <td>Marmota flaviventris</td>\n",
       "    </tr>\n",
       "    <tr>\n",
       "      <th>1</th>\n",
       "      <td>Zonotrichia capensis</td>\n",
       "    </tr>\n",
       "    <tr>\n",
       "      <th>2</th>\n",
       "      <td>Arctium minus</td>\n",
       "    </tr>\n",
       "    <tr>\n",
       "      <th>3</th>\n",
       "      <td>Cirsium occidentale venustum</td>\n",
       "    </tr>\n",
       "    <tr>\n",
       "      <th>4</th>\n",
       "      <td>Olivella biplicata</td>\n",
       "    </tr>\n",
       "  </tbody>\n",
       "</table>\n",
       "</div>"
      ],
      "text/plain": [
       "                     Scientific\n",
       "0          Marmota flaviventris\n",
       "1          Zonotrichia capensis\n",
       "2                 Arctium minus\n",
       "3  Cirsium occidentale venustum\n",
       "4            Olivella biplicata"
      ]
     },
     "execution_count": 3,
     "metadata": {},
     "output_type": "execute_result"
    }
   ],
   "source": [
    "ai_list_path = r\"C:\\Users\\emmav\\Documents\\AI Master year 1\\TMM\\Project\\species_classification.2019.12.00.classes.txt\"\n",
    "ai_list = pd.read_csv(ai_list_path, names=['Scientific'], sep='|', usecols=[0])\n",
    "ai_list = ai_list.drop_duplicates()  # There are many dogs too which all have the same scientific name.\n",
    "ai_list.head()\n"
   ]
  },
  {
   "cell_type": "code",
   "execution_count": 4,
   "metadata": {},
   "outputs": [
    {
     "data": {
      "text/html": [
       "<div>\n",
       "<style scoped>\n",
       "    .dataframe tbody tr th:only-of-type {\n",
       "        vertical-align: middle;\n",
       "    }\n",
       "\n",
       "    .dataframe tbody tr th {\n",
       "        vertical-align: top;\n",
       "    }\n",
       "\n",
       "    .dataframe thead th {\n",
       "        text-align: right;\n",
       "    }\n",
       "</style>\n",
       "<table border=\"1\" class=\"dataframe\">\n",
       "  <thead>\n",
       "    <tr style=\"text-align: right;\">\n",
       "      <th></th>\n",
       "      <th>Species</th>\n",
       "      <th>Scientific</th>\n",
       "      <th>ID</th>\n",
       "    </tr>\n",
       "  </thead>\n",
       "  <tbody>\n",
       "    <tr>\n",
       "      <th>0</th>\n",
       "      <td>Dodaars</td>\n",
       "      <td>Tachybaptus ruficollis</td>\n",
       "      <td>2</td>\n",
       "    </tr>\n",
       "    <tr>\n",
       "      <th>1</th>\n",
       "      <td>Fuut</td>\n",
       "      <td>Podiceps cristatus</td>\n",
       "      <td>91</td>\n",
       "    </tr>\n",
       "    <tr>\n",
       "      <th>2</th>\n",
       "      <td>Roodhalsfuut</td>\n",
       "      <td>Podiceps grisegena</td>\n",
       "      <td>367</td>\n",
       "    </tr>\n",
       "    <tr>\n",
       "      <th>3</th>\n",
       "      <td>Geoorde Fuut</td>\n",
       "      <td>Podiceps nigricollis</td>\n",
       "      <td>3</td>\n",
       "    </tr>\n",
       "    <tr>\n",
       "      <th>4</th>\n",
       "      <td>Aalscholver</td>\n",
       "      <td>Phalacrocorax carbo</td>\n",
       "      <td>58</td>\n",
       "    </tr>\n",
       "  </tbody>\n",
       "</table>\n",
       "</div>"
      ],
      "text/plain": [
       "        Species              Scientific   ID\n",
       "0       Dodaars  Tachybaptus ruficollis    2\n",
       "1          Fuut      Podiceps cristatus   91\n",
       "2  Roodhalsfuut      Podiceps grisegena  367\n",
       "3  Geoorde Fuut    Podiceps nigricollis    3\n",
       "4   Aalscholver     Phalacrocorax carbo   58"
      ]
     },
     "execution_count": 4,
     "metadata": {},
     "output_type": "execute_result"
    }
   ],
   "source": [
    "# Merge the lists on scientific name to retain the species that the classifier is traind on.\n",
    "common = pd.merge(db, ai_list, how='inner', on=['Scientific'])\n",
    "common.head()\n"
   ]
  },
  {
   "cell_type": "code",
   "execution_count": 5,
   "metadata": {},
   "outputs": [],
   "source": [
    "# Save the result:\n",
    "common.to_csv(\"BirdsForClassification.txt\", index=False)\n"
   ]
  },
  {
   "cell_type": "markdown",
   "metadata": {},
   "source": [
    "### Test the server responses\n",
    "- Example of AI for Earth is found at https://aiforearth.portal.azure-api.net/docs/services/species-classification-v2/operations/health-check\n",
    "- Their example notebook is at http://dolphinvm.westus2.cloudapp.azure.com/ai4e/notebooks/species-classification-api-demo.html "
   ]
  },
  {
   "cell_type": "code",
   "execution_count": 6,
   "metadata": {},
   "outputs": [],
   "source": [
    "# Constants related to the Species Classification API:\n",
    "BASE_URL = 'https://aiforearth.azure-api.net/'\n",
    "API_VERSION = '2.0'\n",
    "CONTENT_TYPE_KEY = 'Content-Type'\n",
    "CONTENT_TYPE = 'application/octet-stream'\n",
    "AUTHORIZATION_HEADER = 'Ocp-Apim-Subscription-Key'\n",
    "CLASSIFY_FORMAT = '{0}/species-classification/v{1}/predict?topK={2}&predictMode={3}'\n",
    "PREDICT_MODE = 'classifyOnly'  # Alternative: 'classifyAndDetect'\n",
    "\n",
    "# Subscription key of the Species Classification API:\n",
    "SUBSCRIPTION_KEY = 'bd08344a7f0b475e84ed4ed0b0c6285b'\n"
   ]
  },
  {
   "cell_type": "code",
   "execution_count": 36,
   "metadata": {},
   "outputs": [],
   "source": [
    "# Definitions of methods:\n",
    "def build_classify_url(topK=5, base_url=BASE_URL, version=API_VERSION, predictMode=PREDICT_MODE):\n",
    "    return CLASSIFY_FORMAT.format(base_url, version, topK, predictMode)\n",
    "\n",
    "def get_api_headers(content_type):\n",
    "    return {CONTENT_TYPE_KEY: content_type, AUTHORIZATION_HEADER: SUBSCRIPTION_KEY}\n",
    "\n",
    "def get_api_response(imgdata):\n",
    "    url = build_classify_url()\n",
    "    # print('Running API...')\n",
    "    r = rq.post(url, headers=get_api_headers(CONTENT_TYPE), data=imgdata) \n",
    "    if(r.status_code != 200):\n",
    "        return r.json(), True\n",
    "    # print('...done')\n",
    "    return r.json(), False\n",
    "\n",
    "def classify_and_display_results(image):\n",
    "    result = get_api_response(image)\n",
    "    if(result == None):\n",
    "        print (\"Error occured while calling API...Please try again\")\n",
    "        return\n",
    "    predictions = result[0]['predictions']\n",
    "    is_first_item = True \n",
    "    for item in predictions:\n",
    "        species, species_common, prob = take_info_from_prediction(item)\n",
    "        display_classification_results(species, species_common,  str(prob), is_first_item)   \n",
    "        is_first_item = False\n",
    "        \n",
    "def take_info_from_prediction(prediction):\n",
    "    species = prediction['species']\n",
    "    species_common = prediction['species_common']\n",
    "    prob = round(prediction['confidence'], 2)\n",
    "    return species, species_common, prob\n",
    "        \n",
    "def display_classification_results(species, species_common, progress, is_first_item): \n",
    "    html_string = \"\"\n",
    "    if(is_first_item):\n",
    "        html_string = \"<style>\" \\\n",
    "                      \".progress-container {margin:0 auto; min-height: 25px;margin:0;width:100%; margin-top:10px}\" \\\n",
    "                      \".progress-bar{background-color:#ffc107; padding:3px}\" \\\n",
    "                      \".progress-text{color:black; margin-top:5px;} \" \\\n",
    "                      \".species .species-common {\" \\\n",
    "                      \" color:black !important; font-family:'Helvetica Neue',Helvetica,Arial,sans-serif;\" \\\n",
    "                      \" font-size:14px;line-height:20px;}\" \\\n",
    "                      \"</style>\"\n",
    "                   \n",
    "    progress = progress + \"%\"\n",
    "    style = \"width:\" + progress + \"\"\n",
    "    bing_search_link = 'https://bing.com/images/search?q=' + species\n",
    "    \n",
    "    html_string += \"<a style='color:black;' class='species' href='\" + bing_search_link +\"' target='_blank'>\" + species + \"</a>\" \\\n",
    "                   \"<span class='species-common'>  ( \" + species_common + \" ) </span>\" \\\n",
    "                   \"<div class='progress progress-container'>\" \\\n",
    "                   \"<div class='progress-bar' style='\" + style + \"' >\" \\\n",
    "                   \"<span class='progress-text'>\" + progress + \"</span></div></div>\" \\\n",
    "    \n",
    "    display(HTML(html_string))\n"
   ]
  },
  {
   "cell_type": "code",
   "execution_count": 10,
   "metadata": {},
   "outputs": [
    {
     "name": "stdout",
     "output_type": "stream",
     "text": [
      "({'predictions': [{'class': 'Mammalia', 'class_common': 'Mammals', 'confidence': 22.90235012769699, 'family': 'Sciuridae', 'family_common': 'Squirrels', 'genus': 'Sciurus', 'genus_common': 'Tree Squirrels', 'kingdom': 'Animalia', 'kingdom_common': 'Animals', 'order': 'Rodentia', 'order_common': 'Rodents', 'phylum': 'Chordata', 'phylum_common': 'Chordates', 'species': 'Sciurus vulgaris', 'species_common': 'Eurasian Red Squirrel', 'subfamily': 'Sciurinae', 'subfamily_common': 'Typical and Flying Squirrels', 'subphylum': 'Vertebrata', 'subphylum_common': 'Vertebrates', 'tribe': 'Sciurini', 'tribe_common': 'Typical Squirrels'}, {'class': 'Mammalia', 'class_common': 'Mammals', 'confidence': 16.79779589176178, 'family': 'Sciuridae', 'family_common': 'Squirrels', 'genus': 'Sciurus', 'genus_common': 'Tree Squirrels', 'kingdom': 'Animalia', 'kingdom_common': 'Animals', 'order': 'Rodentia', 'order_common': 'Rodents', 'phylum': 'Chordata', 'phylum_common': 'Chordates', 'species': 'Sciurus aberti', 'species_common': \"Abert's Squirrel\", 'subfamily': 'Sciurinae', 'subfamily_common': 'Typical and Flying Squirrels', 'subphylum': 'Vertebrata', 'subphylum_common': 'Vertebrates', 'tribe': 'Sciurini', 'tribe_common': 'Typical Squirrels'}, {'class': 'Mammalia', 'class_common': 'Mammals', 'confidence': 16.28739684820175, 'family': 'Sciuridae', 'family_common': 'Squirrels', 'genus': 'Sciurus', 'genus_common': 'Tree Squirrels', 'kingdom': 'Animalia', 'kingdom_common': 'Animals', 'order': 'Rodentia', 'order_common': 'Rodents', 'phylum': 'Chordata', 'phylum_common': 'Chordates', 'species': 'Sciurus carolinensis', 'species_common': 'Eastern Gray Squirrel', 'subfamily': 'Sciurinae', 'subfamily_common': 'Typical and Flying Squirrels', 'subphylum': 'Vertebrata', 'subphylum_common': 'Vertebrates', 'tribe': 'Sciurini', 'tribe_common': 'Typical Squirrels'}, {'class': 'Mammalia', 'class_common': 'Mammals', 'confidence': 12.815435230731964, 'family': 'Sciuridae', 'family_common': 'Squirrels', 'genus': 'Tamiasciurus', 'genus_common': 'Pine Squirrels', 'kingdom': 'Animalia', 'kingdom_common': 'Animals', 'order': 'Rodentia', 'order_common': 'Rodents', 'phylum': 'Chordata', 'phylum_common': 'Chordates', 'species': 'Tamiasciurus hudsonicus', 'species_common': 'American Red Squirrel', 'subfamily': 'Sciurinae', 'subfamily_common': 'Typical and Flying Squirrels', 'subphylum': 'Vertebrata', 'subphylum_common': 'Vertebrates', 'tribe': 'Sciurini', 'tribe_common': 'Typical Squirrels'}, {'class': 'Mammalia', 'class_common': 'Mammals', 'confidence': 9.750761091709137, 'family': 'Sciuridae', 'family_common': 'Squirrels', 'genus': 'Tamiasciurus', 'genus_common': 'Pine Squirrels', 'kingdom': 'Animalia', 'kingdom_common': 'Animals', 'order': 'Rodentia', 'order_common': 'Rodents', 'phylum': 'Chordata', 'phylum_common': 'Chordates', 'species': 'Tamiasciurus douglasii', 'species_common': 'Douglas Squirrel', 'subfamily': 'Sciurinae', 'subfamily_common': 'Typical and Flying Squirrels', 'subphylum': 'Vertebrata', 'subphylum_common': 'Vertebrates', 'tribe': 'Sciurini', 'tribe_common': 'Typical Squirrels'}]}, False)\n"
     ]
    },
    {
     "data": {
      "text/html": [
       "<style>.progress-container {margin:0 auto; min-height: 25px;margin:0;width:100%; margin-top:10px}.progress-bar{background-color:#ffc107; padding:3px}.progress-text{color:black; margin-top:5px;} .species .species-common { color:black !important; font-family:'Helvetica Neue',Helvetica,Arial,sans-serif; font-size:14px;line-height:20px;}</style><a style='color:black;' class='species' href='https://bing.com/images/search?q=Sciurus vulgaris' target='_blank'>Sciurus vulgaris</a><span class='species-common'>  ( Eurasian Red Squirrel ) </span><div class='progress progress-container'><div class='progress-bar' style='width:22.9%' ><span class='progress-text'>22.9%</span></div></div>"
      ],
      "text/plain": [
       "<IPython.core.display.HTML object>"
      ]
     },
     "metadata": {},
     "output_type": "display_data"
    },
    {
     "data": {
      "text/html": [
       "<a style='color:black;' class='species' href='https://bing.com/images/search?q=Sciurus aberti' target='_blank'>Sciurus aberti</a><span class='species-common'>  ( Abert's Squirrel ) </span><div class='progress progress-container'><div class='progress-bar' style='width:16.8%' ><span class='progress-text'>16.8%</span></div></div>"
      ],
      "text/plain": [
       "<IPython.core.display.HTML object>"
      ]
     },
     "metadata": {},
     "output_type": "display_data"
    },
    {
     "data": {
      "text/html": [
       "<a style='color:black;' class='species' href='https://bing.com/images/search?q=Sciurus carolinensis' target='_blank'>Sciurus carolinensis</a><span class='species-common'>  ( Eastern Gray Squirrel ) </span><div class='progress progress-container'><div class='progress-bar' style='width:16.29%' ><span class='progress-text'>16.29%</span></div></div>"
      ],
      "text/plain": [
       "<IPython.core.display.HTML object>"
      ]
     },
     "metadata": {},
     "output_type": "display_data"
    },
    {
     "data": {
      "text/html": [
       "<a style='color:black;' class='species' href='https://bing.com/images/search?q=Tamiasciurus hudsonicus' target='_blank'>Tamiasciurus hudsonicus</a><span class='species-common'>  ( American Red Squirrel ) </span><div class='progress progress-container'><div class='progress-bar' style='width:12.82%' ><span class='progress-text'>12.82%</span></div></div>"
      ],
      "text/plain": [
       "<IPython.core.display.HTML object>"
      ]
     },
     "metadata": {},
     "output_type": "display_data"
    },
    {
     "data": {
      "text/html": [
       "<a style='color:black;' class='species' href='https://bing.com/images/search?q=Tamiasciurus douglasii' target='_blank'>Tamiasciurus douglasii</a><span class='species-common'>  ( Douglas Squirrel ) </span><div class='progress progress-container'><div class='progress-bar' style='width:9.75%' ><span class='progress-text'>9.75%</span></div></div>"
      ],
      "text/plain": [
       "<IPython.core.display.HTML object>"
      ]
     },
     "metadata": {},
     "output_type": "display_data"
    }
   ],
   "source": [
    "# If the commented and last line are done at once, an error will occur\n",
    "# because the calls are too close together in time.\n",
    "image_data = open('eekhoorn2.jpg', 'rb')\n",
    "# result = get_api_response(image_data)  # images[0]['data'])\n",
    "print(result)\n",
    "classify_and_display_results(image_data)"
   ]
  },
  {
   "cell_type": "markdown",
   "metadata": {},
   "source": [
    "### Get an image from Waarneming.nl and get the classification for it"
   ]
  },
  {
   "cell_type": "code",
   "execution_count": 11,
   "metadata": {
    "scrolled": true
   },
   "outputs": [
    {
     "data": {
      "text/html": [
       "<style>.progress-container {margin:0 auto; min-height: 25px;margin:0;width:100%; margin-top:10px}.progress-bar{background-color:#ffc107; padding:3px}.progress-text{color:black; margin-top:5px;} .species .species-common { color:black !important; font-family:'Helvetica Neue',Helvetica,Arial,sans-serif; font-size:14px;line-height:20px;}</style><a style='color:black;' class='species' href='https://bing.com/images/search?q=Aythya fuligula' target='_blank'>Aythya fuligula</a><span class='species-common'>  ( Tufted Duck ) </span><div class='progress progress-container'><div class='progress-bar' style='width:87.58%' ><span class='progress-text'>87.58%</span></div></div>"
      ],
      "text/plain": [
       "<IPython.core.display.HTML object>"
      ]
     },
     "metadata": {},
     "output_type": "display_data"
    },
    {
     "data": {
      "text/html": [
       "<a style='color:black;' class='species' href='https://bing.com/images/search?q=Aythya collaris' target='_blank'>Aythya collaris</a><span class='species-common'>  ( Ring necked Duck ) </span><div class='progress progress-container'><div class='progress-bar' style='width:5.87%' ><span class='progress-text'>5.87%</span></div></div>"
      ],
      "text/plain": [
       "<IPython.core.display.HTML object>"
      ]
     },
     "metadata": {},
     "output_type": "display_data"
    },
    {
     "data": {
      "text/html": [
       "<a style='color:black;' class='species' href='https://bing.com/images/search?q=Aythya marila' target='_blank'>Aythya marila</a><span class='species-common'>  ( Greater Scaup ) </span><div class='progress progress-container'><div class='progress-bar' style='width:1.18%' ><span class='progress-text'>1.18%</span></div></div>"
      ],
      "text/plain": [
       "<IPython.core.display.HTML object>"
      ]
     },
     "metadata": {},
     "output_type": "display_data"
    },
    {
     "data": {
      "text/html": [
       "<a style='color:black;' class='species' href='https://bing.com/images/search?q=Aythya affinis' target='_blank'>Aythya affinis</a><span class='species-common'>  ( Lesser Scaup ) </span><div class='progress progress-container'><div class='progress-bar' style='width:0.59%' ><span class='progress-text'>0.59%</span></div></div>"
      ],
      "text/plain": [
       "<IPython.core.display.HTML object>"
      ]
     },
     "metadata": {},
     "output_type": "display_data"
    },
    {
     "data": {
      "text/html": [
       "<a style='color:black;' class='species' href='https://bing.com/images/search?q=Aythya ferina' target='_blank'>Aythya ferina</a><span class='species-common'>  ( Common Pochard ) </span><div class='progress progress-container'><div class='progress-bar' style='width:0.58%' ><span class='progress-text'>0.58%</span></div></div>"
      ],
      "text/plain": [
       "<IPython.core.display.HTML object>"
      ]
     },
     "metadata": {},
     "output_type": "display_data"
    }
   ],
   "source": [
    "# Example:\n",
    "image_url = \"https://waarneming.nl/media/photo/004/240/4240808.jpg\"\n",
    "\n",
    "image_r = rq.get(image_url, stream=True)\n",
    "\n",
    "temp_img = open('temp_img.jpg', 'wb')\n",
    "temp_img.write(image_r.content)\n",
    "temp_img.close()\n",
    "\n",
    "image_data = open('temp_img.jpg', 'rb')\n",
    "classify_and_display_results(image_data)\n"
   ]
  },
  {
   "cell_type": "code",
   "execution_count": 12,
   "metadata": {},
   "outputs": [
    {
     "name": "stdout",
     "output_type": "stream",
     "text": [
      "           ID              Scientific ScientificPred0 CommonPred0 ProbPred0  \\\n",
      "0  9/32670539  Tachybaptus ruficollis                                         \n",
      "1  8/32664908  Tachybaptus ruficollis                                         \n",
      "2  0/32663960  Tachybaptus ruficollis                                         \n",
      "3  8/32662888  Tachybaptus ruficollis                                         \n",
      "4  3/32660353  Tachybaptus ruficollis                                         \n",
      "\n",
      "  ScientificPred1 CommonPred1 ProbPred1 ScientificPred2 CommonPred2 ProbPred2  \\\n",
      "0                                                                               \n",
      "1                                                                               \n",
      "2                                                                               \n",
      "3                                                                               \n",
      "4                                                                               \n",
      "\n",
      "  ScientificPred3 CommonPred3 ProbPred3 ScientificPred4 CommonPred4 ProbPred4  \n",
      "0                                                                              \n",
      "1                                                                              \n",
      "2                                                                              \n",
      "3                                                                              \n",
      "4                                                                              \n"
     ]
    }
   ],
   "source": [
    "# Next, get the predictions for all images in the list!\n",
    "# First some settings:\n",
    "waarneming_url = \"https://waarneming.nl/fotonew/\"\n",
    "df = pd.read_csv(\"BirdPhotoIDs.txt\", header=0)\n",
    "\n",
    "# Add headers where the new predictions will be filled in:\n",
    "header_list = ['ScientificPred0', 'CommonPred0', 'ProbPred0',\n",
    "               'ScientificPred1', 'CommonPred1', 'ProbPred1',\n",
    "               'ScientificPred2', 'CommonPred2', 'ProbPred2',\n",
    "               'ScientificPred3', 'CommonPred3', 'ProbPred3',\n",
    "               'ScientificPred4', 'CommonPred4', 'ProbPred4']\n",
    "for header in header_list:\n",
    "    df[header] = ''\n",
    "print(df.head())\n"
   ]
  },
  {
   "cell_type": "code",
   "execution_count": 18,
   "metadata": {
    "scrolled": true
   },
   "outputs": [
    {
     "name": "stdout",
     "output_type": "stream",
     "text": [
      "0 : Tachybaptus ruficollis | Prediction: Tachybaptus ruficollis\n",
      "1 : Tachybaptus ruficollis | Prediction: Tachybaptus ruficollis\n",
      "2 : Tachybaptus ruficollis | Prediction: Oxyura jamaicensis\n",
      "3 : Tachybaptus ruficollis | Prediction: Podiceps grisegena\n",
      "4 : Tachybaptus ruficollis | Prediction: Oxyura jamaicensis\n",
      "5 : Tachybaptus ruficollis | Prediction: Tachybaptus ruficollis\n",
      "6 : Tachybaptus ruficollis | Prediction: Tachybaptus ruficollis\n",
      "7 : Tachybaptus ruficollis | Prediction: Tachybaptus ruficollis\n",
      "8 : Tachybaptus ruficollis | Prediction: Podilymbus podiceps\n",
      "9 : Tachybaptus ruficollis | Prediction: Podiceps grisegena\n",
      "10 : Tachybaptus ruficollis | Prediction: Tachybaptus dominicus\n",
      "11 : Tachybaptus ruficollis | Prediction: Tachybaptus ruficollis\n",
      "12 : Tachybaptus ruficollis | Prediction: Podiceps nigricollis\n",
      "13 : Tachybaptus ruficollis | Prediction: Podiceps auritus\n",
      "14 : Tachybaptus ruficollis | Prediction: Tachybaptus ruficollis\n",
      "15 : Tachybaptus ruficollis | Prediction: Tachybaptus dominicus\n",
      "16 : Tachybaptus ruficollis | Prediction: Tachybaptus ruficollis\n",
      "17 : Tachybaptus ruficollis | Prediction: Tachybaptus ruficollis\n",
      "18 : Tachybaptus ruficollis | Prediction: Tachybaptus dominicus\n",
      "19 : Tachybaptus ruficollis | Prediction: Tachybaptus ruficollis\n",
      "20 : Tachybaptus ruficollis | Prediction: Tachybaptus ruficollis\n",
      "21 : Tachybaptus ruficollis | Prediction: Alligator mississippiensis\n",
      "22 : Tachybaptus ruficollis | Prediction: Tachybaptus ruficollis\n",
      "23 : Tachybaptus ruficollis | Prediction: Podiceps nigricollis\n",
      "24 : Podiceps cristatus | Prediction: Podiceps cristatus\n",
      "25 : Podiceps cristatus | Prediction: Podiceps cristatus\n",
      "26 : Podiceps cristatus | Prediction: Podiceps cristatus\n",
      "27 : Podiceps cristatus | Prediction: Podiceps cristatus\n",
      "28 : Podiceps cristatus | Prediction: Podiceps cristatus\n",
      "29 : Podiceps cristatus | Prediction: Podiceps cristatus\n",
      "30 : Podiceps cristatus | Prediction: Podiceps cristatus\n",
      "31 : Podiceps cristatus | Prediction: Podiceps auritus\n",
      "32 : Podiceps cristatus | Prediction: Podiceps cristatus\n",
      "33 : Podiceps cristatus | Prediction: Podiceps cristatus\n",
      "34 : Podiceps cristatus | Prediction: Podiceps cristatus\n",
      "35 : Podiceps cristatus | Prediction: Podiceps cristatus\n",
      "36 : Podiceps cristatus | Prediction: Podiceps cristatus\n",
      "37 : Podiceps cristatus | Prediction: Podiceps cristatus\n",
      "38 : Podiceps cristatus | Prediction: Podiceps cristatus\n",
      "39 : Podiceps cristatus | Prediction: Podiceps cristatus\n",
      "40 : Podiceps cristatus | Prediction: Podiceps cristatus\n",
      "41 : Podiceps cristatus | Prediction: Podiceps cristatus\n",
      "42 : Podiceps cristatus | Prediction: Podiceps cristatus\n",
      "43 : Podiceps cristatus | Prediction: Podiceps cristatus\n",
      "44 : Podiceps cristatus | Prediction: Podiceps cristatus\n",
      "45 : Podiceps cristatus | Prediction: Podiceps cristatus\n",
      "46 : Podiceps cristatus | Prediction: Canis familiaris\n",
      "47 : Podiceps cristatus | Prediction: Podiceps cristatus\n",
      "48 : Podiceps grisegena | Prediction: Aechmophorus occidentalis\n",
      "49 : Podiceps grisegena | Prediction: Podiceps grisegena\n",
      "50 : Podiceps grisegena | Prediction: Melanitta fusca\n",
      "51 : Podiceps grisegena | Prediction: Podiceps grisegena\n",
      "52 : Podiceps grisegena | Prediction: Podiceps grisegena\n",
      "53 : Podiceps grisegena | Prediction: Podiceps grisegena\n",
      "54 : Podiceps grisegena | Prediction: Podiceps grisegena\n",
      "55 : Podiceps grisegena | Prediction: Podiceps grisegena\n",
      "56 : Podiceps grisegena | Prediction: Podiceps grisegena\n",
      "57 : Podiceps grisegena | Prediction: Podiceps grisegena\n",
      "58 : Podiceps grisegena | Prediction: Podiceps grisegena\n",
      "59 : Podiceps grisegena | Prediction: Podiceps grisegena\n",
      "60 : Podiceps grisegena | Prediction: Podiceps grisegena\n",
      "61 : Podiceps grisegena | Prediction: Podiceps nigricollis\n",
      "62 : Podiceps grisegena | Prediction: Podiceps grisegena\n",
      "63 : Podiceps grisegena | Prediction: Melanitta americana\n",
      "64 : Podiceps grisegena | Prediction: Podiceps grisegena\n",
      "65 : Podiceps grisegena | Prediction: Podiceps grisegena\n",
      "66 : Podiceps grisegena | Prediction: Podiceps grisegena\n",
      "67 : Podiceps grisegena | Prediction: Podiceps grisegena\n",
      "68 : Podiceps grisegena | Prediction: Podiceps grisegena\n",
      "69 : Podiceps grisegena | Prediction: Podiceps grisegena\n",
      "70 : Podiceps grisegena | Prediction: Podiceps grisegena\n",
      "71 : Podiceps grisegena | Prediction: Podiceps grisegena\n",
      "72 : Podiceps nigricollis | Prediction: Podiceps nigricollis\n",
      "73 : Podiceps nigricollis | Prediction: Podiceps nigricollis\n",
      "74 : Podiceps nigricollis | Prediction: Podiceps nigricollis\n",
      "75 : Podiceps nigricollis | Prediction: Podiceps cristatus\n",
      "76 : Podiceps nigricollis | Prediction: Podiceps grisegena\n",
      "77 : Podiceps nigricollis | Prediction: Podiceps auritus\n",
      "78 : Podiceps nigricollis | Prediction: Podiceps nigricollis\n",
      "79 : Podiceps nigricollis | Prediction: Podiceps grisegena\n",
      "80 : Podiceps nigricollis | Prediction: Podiceps nigricollis\n",
      "81 : Podiceps nigricollis | Prediction: Podiceps nigricollis\n",
      "82 : Podiceps nigricollis | Prediction: Podiceps nigricollis\n",
      "83 : Podiceps nigricollis | Prediction: Podiceps nigricollis\n",
      "84 : Podiceps nigricollis | Prediction: Podiceps nigricollis\n",
      "85 : Podiceps nigricollis | Prediction: Podiceps nigricollis\n",
      "86 : Podiceps nigricollis | Prediction: Podiceps nigricollis\n",
      "87 : Podiceps nigricollis | Prediction: Podiceps nigricollis\n",
      "88 : Podiceps nigricollis | Prediction: Podiceps nigricollis\n",
      "89 : Podiceps nigricollis | Prediction: Podiceps nigricollis\n",
      "90 : Podiceps nigricollis | Prediction: Podiceps nigricollis\n",
      "91 : Podiceps nigricollis | Prediction: Podiceps nigricollis\n",
      "92 : Podiceps nigricollis | Prediction: Podiceps nigricollis\n",
      "93 : Podiceps nigricollis | Prediction: Podiceps nigricollis\n",
      "94 : Podiceps nigricollis | Prediction: Podiceps nigricollis\n",
      "95 : Podiceps nigricollis | Prediction: Podiceps nigricollis\n",
      "96 : Phalacrocorax carbo | Prediction: Phalacrocorax carbo\n",
      "97 : Phalacrocorax carbo | Prediction: Phalacrocorax carbo novaehollandiae\n",
      "98 : Phalacrocorax carbo | Prediction: Phalacrocorax carbo\n",
      "99 : Phalacrocorax carbo | Prediction: Phalacrocorax carbo\n",
      "100 : Phalacrocorax carbo | Prediction: Phalacrocorax carbo\n",
      "101 : Phalacrocorax carbo | Prediction: Phalacrocorax carbo\n",
      "102 : Phalacrocorax carbo | Prediction: Phalacrocorax carbo\n",
      "103 : Phalacrocorax carbo | Prediction: Phalacrocorax carbo\n",
      "104 : Phalacrocorax carbo | Prediction: Phalacrocorax carbo\n",
      "105 : Phalacrocorax carbo | Prediction: Phalacrocorax carbo\n",
      "106 : Phalacrocorax carbo | Prediction: Dryocopus pileatus\n",
      "107 : Phalacrocorax carbo | Prediction: Phalacrocorax carbo\n",
      "108 : Phalacrocorax carbo | Prediction: Phalacrocorax carbo\n",
      "109 : Phalacrocorax carbo | Prediction: Phalacrocorax carbo\n",
      "110 : Phalacrocorax carbo | Prediction: Phalacrocorax carbo\n",
      "111 : Phalacrocorax carbo | Prediction: Phalacrocorax auritus\n",
      "112 : Phalacrocorax carbo | Prediction: Phalacrocorax carbo\n",
      "113 : Phalacrocorax carbo | Prediction: Phalacrocorax carbo novaehollandiae\n",
      "114 : Phalacrocorax carbo | Prediction: Phalacrocorax carbo\n",
      "115 : Phalacrocorax carbo | Prediction: Phalacrocorax carbo\n",
      "116 : Phalacrocorax carbo | Prediction: Phalacrocorax carbo\n",
      "117 : Phalacrocorax carbo | Prediction: Phalacrocorax auritus\n",
      "118 : Phalacrocorax carbo | Prediction: Phalacrocorax carbo\n",
      "119 : Phalacrocorax carbo | Prediction: Phalacrocorax auritus\n",
      "120 : Nycticorax nycticorax | Prediction: Nycticorax nycticorax\n",
      "121 : Nycticorax nycticorax | Prediction: Nycticorax nycticorax\n",
      "122 : Nycticorax nycticorax | Prediction: Nycticorax nycticorax\n",
      "123 : Nycticorax nycticorax | Prediction: Nycticorax nycticorax\n",
      "124 : Nycticorax nycticorax | Prediction: Nycticorax nycticorax\n",
      "125 : Nycticorax nycticorax | Prediction: Nycticorax nycticorax\n",
      "126 : Nycticorax nycticorax | Prediction: Nycticorax nycticorax\n",
      "127 : Nycticorax nycticorax | Prediction: Baeolophus bicolor\n",
      "128 : Nycticorax nycticorax | Prediction: Nycticorax nycticorax\n",
      "129 : Nycticorax nycticorax | Prediction: Nycticorax nycticorax\n",
      "130 : Nycticorax nycticorax | Prediction: Nycticorax nycticorax\n",
      "131 : Nycticorax nycticorax | Prediction: Nycticorax nycticorax\n",
      "132 : Nycticorax nycticorax | Prediction: Nycticorax nycticorax\n",
      "133 : Nycticorax nycticorax | Prediction: Nycticorax nycticorax\n",
      "134 : Nycticorax nycticorax | Prediction: Nycticorax nycticorax\n",
      "135 : Nycticorax nycticorax | Prediction: Nycticorax nycticorax\n"
     ]
    },
    {
     "name": "stdout",
     "output_type": "stream",
     "text": [
      "136 : Nycticorax nycticorax | Prediction: Nycticorax nycticorax\n",
      "137 : Nycticorax nycticorax | Prediction: Nycticorax nycticorax\n",
      "138 : Nycticorax nycticorax | Prediction: Nycticorax nycticorax\n",
      "139 : Nycticorax nycticorax | Prediction: Nycticorax nycticorax\n",
      "140 : Nycticorax nycticorax | Prediction: Nycticorax nycticorax\n",
      "141 : Nycticorax nycticorax | Prediction: Nycticorax nycticorax\n",
      "142 : Nycticorax nycticorax | Prediction: Nycticorax nycticorax\n",
      "143 : Nycticorax nycticorax | Prediction: Nycticorax nycticorax\n",
      "144 : Egretta garzetta | Prediction: Egretta garzetta\n",
      "145 : Egretta garzetta | Prediction: Ardea alba\n",
      "146 : Egretta garzetta | Prediction: Egretta garzetta\n",
      "147 : Egretta garzetta | Prediction: Egretta garzetta\n",
      "148 : Egretta garzetta | Prediction: Egretta garzetta\n",
      "149 : Egretta garzetta | Prediction: Egretta garzetta\n",
      "150 : Egretta garzetta | Prediction: Egretta garzetta\n",
      "151 : Egretta garzetta | Prediction: Egretta garzetta\n",
      "152 : Egretta garzetta | Prediction: Egretta garzetta\n",
      "153 : Egretta garzetta | Prediction: Egretta garzetta\n",
      "154 : Egretta garzetta | Prediction: Egretta garzetta\n",
      "155 : Egretta garzetta | Prediction: Egretta garzetta\n",
      "156 : Egretta garzetta | Prediction: Egretta garzetta\n",
      "157 : Egretta garzetta | Prediction: Egretta garzetta\n",
      "158 : Egretta garzetta | Prediction: Mycteria americana\n",
      "159 : Egretta garzetta | Prediction: Egretta garzetta\n",
      "160 : Egretta garzetta | Prediction: Egretta garzetta\n",
      "161 : Egretta garzetta | Prediction: Egretta garzetta\n",
      "162 : Egretta garzetta | Prediction: Egretta garzetta\n",
      "163 : Egretta garzetta | Prediction: Egretta garzetta\n",
      "164 : Egretta garzetta | Prediction: Egretta garzetta\n",
      "165 : Egretta garzetta | Prediction: Bubulcus ibis\n",
      "166 : Egretta garzetta | Prediction: Egretta garzetta\n",
      "167 : Egretta garzetta | Prediction: Ardea alba\n",
      "168 : Ardea alba | Prediction: Ardea alba\n",
      "169 : Ardea alba | Prediction: Ardea alba modesta\n",
      "170 : Ardea alba | Prediction: Ardea alba modesta\n",
      "171 : Ardea alba | Prediction: Ardea alba\n",
      "172 : Ardea alba | Prediction: Ardea alba\n",
      "173 : Ardea alba | Prediction: Ardea alba\n",
      "174 : Ardea alba | Prediction: Anser anser\n",
      "175 : Ardea alba | Prediction: Ardea alba\n",
      "176 : Ardea alba | Prediction: Ardea alba\n",
      "177 : Ardea alba | Prediction: Ardea alba\n",
      "178 : Ardea alba | Prediction: Bubulcus ibis\n",
      "179 : Ardea alba | Prediction: Ardea alba\n",
      "180 : Ardea alba | Prediction: Ardea alba\n",
      "181 : Ardea alba | Prediction: Haliaeetus leucocephalus\n",
      "182 : Ardea alba | Prediction: Ardea alba\n",
      "183 : Ardea alba | Prediction: Ardea alba\n",
      "184 : Ardea alba | Prediction: Ardea alba\n",
      "185 : Ardea alba | Prediction: Ardea alba\n",
      "186 : Ardea alba | Prediction: Ardea alba\n",
      "187 : Ardea alba | Prediction: Ardea alba\n",
      "188 : Ardea alba | Prediction: Ardea alba\n",
      "189 : Ardea alba | Prediction: Ardea alba\n",
      "190 : Ardea alba | Prediction: Ardea alba modesta\n",
      "191 : Ardea alba | Prediction: Ardea alba\n",
      "192 : Ardea cinerea | Prediction: Ardea cinerea\n",
      "193 : Ardea cinerea | Prediction: Ardea cinerea\n",
      "194 : Ardea cinerea | Prediction: Ardea cinerea\n",
      "195 : Ardea cinerea | Prediction: Ardea cinerea\n",
      "196 : Ardea cinerea | Prediction: Ardea cinerea\n",
      "197 : Ardea cinerea | Prediction: Ardea cinerea\n",
      "198 : Ardea cinerea | Prediction: Ardea cinerea\n",
      "199 : Ardea cinerea | Prediction: Ardea herodias\n",
      "200 : Ardea cinerea | Prediction: Ardea cinerea\n",
      "201 : Ardea cinerea | Prediction: Ardea cinerea\n",
      "202 : Ardea cinerea | Prediction: Ardea cinerea\n",
      "203 : Ardea cinerea | Prediction: Ardea cinerea\n",
      "204 : Ardea cinerea | Prediction: Ardea herodias\n",
      "205 : Ardea cinerea | Prediction: Ardea cinerea\n",
      "206 : Ardea cinerea | Prediction: Ardea cinerea\n",
      "207 : Ardea cinerea | Prediction: Ardea cinerea\n",
      "208 : Ardea cinerea | Prediction: Ardea cocoi\n",
      "209 : Ardea cinerea | Prediction: Ardea cinerea\n",
      "210 : Ardea cinerea | Prediction: Ardea cinerea\n",
      "211 : Ardea cinerea | Prediction: Ardea cinerea\n",
      "212 : Ardea cinerea | Prediction: Ardea cinerea\n",
      "213 : Ardea cinerea | Prediction: Ardea cinerea\n",
      "214 : Ardea cinerea | Prediction: Ardea herodias\n",
      "215 : Ardea cinerea | Prediction: Ardea cinerea\n",
      "216 : Ardea purpurea | Prediction: Ardea purpurea\n",
      "217 : Ardea purpurea | Prediction: Ardea purpurea\n",
      "218 : Ardea purpurea | Prediction: Ardea purpurea\n",
      "219 : Ardea purpurea | Prediction: Ardea purpurea\n",
      "220 : Ardea purpurea | Prediction: Ardea purpurea\n",
      "221 : Ardea purpurea | Prediction: Ardea purpurea\n",
      "222 : Ardea purpurea | Prediction: Botaurus lentiginosus\n",
      "223 : Ardea purpurea | Prediction: Ardea purpurea\n",
      "224 : Ardea purpurea | Prediction: Ardea purpurea\n",
      "225 : Ardea purpurea | Prediction: Ardea purpurea\n",
      "226 : Ardea purpurea | Prediction: Ardea purpurea\n",
      "227 : Ardea purpurea | Prediction: Ardea purpurea\n",
      "228 : Ardea purpurea | Prediction: Ardea purpurea\n",
      "229 : Ardea purpurea | Prediction: Ardea purpurea\n",
      "230 : Ardea purpurea | Prediction: Botaurus lentiginosus\n",
      "231 : Ardea purpurea | Prediction: Ardea purpurea\n",
      "232 : Ardea purpurea | Prediction: Ardea purpurea\n",
      "233 : Ardea purpurea | Prediction: Ardea purpurea\n",
      "234 : Ardea purpurea | Prediction: Ardea purpurea\n",
      "235 : Ardea purpurea | Prediction: Ardea purpurea\n",
      "236 : Ardea purpurea | Prediction: Ardea cinerea\n",
      "237 : Ardea purpurea | Prediction: Ardea purpurea\n",
      "238 : Ardea purpurea | Prediction: Ardea purpurea\n",
      "239 : Ardea purpurea | Prediction: Ardea purpurea\n",
      "240 : Ciconia ciconia | Prediction: Ciconia ciconia\n",
      "241 : Ciconia ciconia | Prediction: Ciconia ciconia\n",
      "242 : Ciconia ciconia | Prediction: Ciconia ciconia\n",
      "243 : Ciconia ciconia | Prediction: Ciconia ciconia\n",
      "244 : Ciconia ciconia | Prediction: Ciconia ciconia\n",
      "245 : Ciconia ciconia | Prediction: Anser anser\n",
      "246 : Ciconia ciconia | Prediction: Ciconia ciconia\n",
      "247 : Ciconia ciconia | Prediction: Ciconia ciconia\n",
      "248 : Ciconia ciconia | Prediction: Ciconia ciconia\n",
      "249 : Ciconia ciconia | Prediction: Ciconia ciconia\n",
      "250 : Ciconia ciconia | Prediction: Grus grus\n"
     ]
    },
    {
     "ename": "KeyboardInterrupt",
     "evalue": "",
     "output_type": "error",
     "traceback": [
      "\u001b[1;31m---------------------------------------------------------------------------\u001b[0m",
      "\u001b[1;31mTypeError\u001b[0m                                 Traceback (most recent call last)",
      "\u001b[1;32m~\\Anaconda3\\lib\\site-packages\\urllib3\\connectionpool.py\u001b[0m in \u001b[0;36m_make_request\u001b[1;34m(self, conn, method, url, timeout, chunked, **httplib_request_kw)\u001b[0m\n\u001b[0;32m    379\u001b[0m             \u001b[1;32mtry\u001b[0m\u001b[1;33m:\u001b[0m  \u001b[1;31m# Python 2.7, use buffering of HTTP responses\u001b[0m\u001b[1;33m\u001b[0m\u001b[0m\n\u001b[1;32m--> 380\u001b[1;33m                 \u001b[0mhttplib_response\u001b[0m \u001b[1;33m=\u001b[0m \u001b[0mconn\u001b[0m\u001b[1;33m.\u001b[0m\u001b[0mgetresponse\u001b[0m\u001b[1;33m(\u001b[0m\u001b[0mbuffering\u001b[0m\u001b[1;33m=\u001b[0m\u001b[1;32mTrue\u001b[0m\u001b[1;33m)\u001b[0m\u001b[1;33m\u001b[0m\u001b[0m\n\u001b[0m\u001b[0;32m    381\u001b[0m             \u001b[1;32mexcept\u001b[0m \u001b[0mTypeError\u001b[0m\u001b[1;33m:\u001b[0m  \u001b[1;31m# Python 2.6 and older, Python 3\u001b[0m\u001b[1;33m\u001b[0m\u001b[0m\n",
      "\u001b[1;31mTypeError\u001b[0m: getresponse() got an unexpected keyword argument 'buffering'",
      "\nDuring handling of the above exception, another exception occurred:\n",
      "\u001b[1;31mKeyboardInterrupt\u001b[0m                         Traceback (most recent call last)",
      "\u001b[1;32m<ipython-input-18-614328d3dbf7>\u001b[0m in \u001b[0;36m<module>\u001b[1;34m()\u001b[0m\n\u001b[0;32m     13\u001b[0m     \u001b[1;31m# Retrieve the AI4Earth prediction for the image:\u001b[0m\u001b[1;33m\u001b[0m\u001b[1;33m\u001b[0m\u001b[0m\n\u001b[0;32m     14\u001b[0m     \u001b[0mimage_data\u001b[0m \u001b[1;33m=\u001b[0m \u001b[0mopen\u001b[0m\u001b[1;33m(\u001b[0m\u001b[1;34m'temp_img.jpg'\u001b[0m\u001b[1;33m,\u001b[0m \u001b[1;34m'rb'\u001b[0m\u001b[1;33m)\u001b[0m\u001b[1;33m\u001b[0m\u001b[0m\n\u001b[1;32m---> 15\u001b[1;33m     \u001b[0mresult\u001b[0m \u001b[1;33m=\u001b[0m \u001b[0mget_api_response\u001b[0m\u001b[1;33m(\u001b[0m\u001b[0mimage_data\u001b[0m\u001b[1;33m)\u001b[0m\u001b[1;33m\u001b[0m\u001b[0m\n\u001b[0m\u001b[0;32m     16\u001b[0m \u001b[1;33m\u001b[0m\u001b[0m\n\u001b[0;32m     17\u001b[0m     \u001b[1;31m# Dissect the response:\u001b[0m\u001b[1;33m\u001b[0m\u001b[1;33m\u001b[0m\u001b[0m\n",
      "\u001b[1;32m<ipython-input-7-a6846a8a68c2>\u001b[0m in \u001b[0;36mget_api_response\u001b[1;34m(imgdata)\u001b[0m\n\u001b[0;32m      9\u001b[0m     \u001b[0murl\u001b[0m \u001b[1;33m=\u001b[0m \u001b[0mbuild_classify_url\u001b[0m\u001b[1;33m(\u001b[0m\u001b[1;33m)\u001b[0m\u001b[1;33m\u001b[0m\u001b[0m\n\u001b[0;32m     10\u001b[0m     \u001b[1;31m# print('Running API...')\u001b[0m\u001b[1;33m\u001b[0m\u001b[1;33m\u001b[0m\u001b[0m\n\u001b[1;32m---> 11\u001b[1;33m     \u001b[0mr\u001b[0m \u001b[1;33m=\u001b[0m \u001b[0mrq\u001b[0m\u001b[1;33m.\u001b[0m\u001b[0mpost\u001b[0m\u001b[1;33m(\u001b[0m\u001b[0murl\u001b[0m\u001b[1;33m,\u001b[0m \u001b[0mheaders\u001b[0m\u001b[1;33m=\u001b[0m\u001b[0mget_api_headers\u001b[0m\u001b[1;33m(\u001b[0m\u001b[0mCONTENT_TYPE\u001b[0m\u001b[1;33m)\u001b[0m\u001b[1;33m,\u001b[0m \u001b[0mdata\u001b[0m\u001b[1;33m=\u001b[0m\u001b[0mimgdata\u001b[0m\u001b[1;33m)\u001b[0m\u001b[1;33m\u001b[0m\u001b[0m\n\u001b[0m\u001b[0;32m     12\u001b[0m     \u001b[1;32mif\u001b[0m\u001b[1;33m(\u001b[0m\u001b[0mr\u001b[0m\u001b[1;33m.\u001b[0m\u001b[0mstatus_code\u001b[0m \u001b[1;33m!=\u001b[0m \u001b[1;36m200\u001b[0m\u001b[1;33m)\u001b[0m\u001b[1;33m:\u001b[0m\u001b[1;33m\u001b[0m\u001b[0m\n\u001b[0;32m     13\u001b[0m         \u001b[1;32mreturn\u001b[0m \u001b[0mr\u001b[0m\u001b[1;33m.\u001b[0m\u001b[0mjson\u001b[0m\u001b[1;33m(\u001b[0m\u001b[1;33m)\u001b[0m\u001b[1;33m,\u001b[0m \u001b[1;32mTrue\u001b[0m\u001b[1;33m\u001b[0m\u001b[0m\n",
      "\u001b[1;32m~\\AppData\\Roaming\\Python\\Python36\\site-packages\\requests\\api.py\u001b[0m in \u001b[0;36mpost\u001b[1;34m(url, data, json, **kwargs)\u001b[0m\n\u001b[0;32m    117\u001b[0m     \"\"\"\n\u001b[0;32m    118\u001b[0m \u001b[1;33m\u001b[0m\u001b[0m\n\u001b[1;32m--> 119\u001b[1;33m     \u001b[1;32mreturn\u001b[0m \u001b[0mrequest\u001b[0m\u001b[1;33m(\u001b[0m\u001b[1;34m'post'\u001b[0m\u001b[1;33m,\u001b[0m \u001b[0murl\u001b[0m\u001b[1;33m,\u001b[0m \u001b[0mdata\u001b[0m\u001b[1;33m=\u001b[0m\u001b[0mdata\u001b[0m\u001b[1;33m,\u001b[0m \u001b[0mjson\u001b[0m\u001b[1;33m=\u001b[0m\u001b[0mjson\u001b[0m\u001b[1;33m,\u001b[0m \u001b[1;33m**\u001b[0m\u001b[0mkwargs\u001b[0m\u001b[1;33m)\u001b[0m\u001b[1;33m\u001b[0m\u001b[0m\n\u001b[0m\u001b[0;32m    120\u001b[0m \u001b[1;33m\u001b[0m\u001b[0m\n\u001b[0;32m    121\u001b[0m \u001b[1;33m\u001b[0m\u001b[0m\n",
      "\u001b[1;32m~\\AppData\\Roaming\\Python\\Python36\\site-packages\\requests\\api.py\u001b[0m in \u001b[0;36mrequest\u001b[1;34m(method, url, **kwargs)\u001b[0m\n\u001b[0;32m     59\u001b[0m     \u001b[1;31m# cases, and look like a memory leak in others.\u001b[0m\u001b[1;33m\u001b[0m\u001b[1;33m\u001b[0m\u001b[0m\n\u001b[0;32m     60\u001b[0m     \u001b[1;32mwith\u001b[0m \u001b[0msessions\u001b[0m\u001b[1;33m.\u001b[0m\u001b[0mSession\u001b[0m\u001b[1;33m(\u001b[0m\u001b[1;33m)\u001b[0m \u001b[1;32mas\u001b[0m \u001b[0msession\u001b[0m\u001b[1;33m:\u001b[0m\u001b[1;33m\u001b[0m\u001b[0m\n\u001b[1;32m---> 61\u001b[1;33m         \u001b[1;32mreturn\u001b[0m \u001b[0msession\u001b[0m\u001b[1;33m.\u001b[0m\u001b[0mrequest\u001b[0m\u001b[1;33m(\u001b[0m\u001b[0mmethod\u001b[0m\u001b[1;33m=\u001b[0m\u001b[0mmethod\u001b[0m\u001b[1;33m,\u001b[0m \u001b[0murl\u001b[0m\u001b[1;33m=\u001b[0m\u001b[0murl\u001b[0m\u001b[1;33m,\u001b[0m \u001b[1;33m**\u001b[0m\u001b[0mkwargs\u001b[0m\u001b[1;33m)\u001b[0m\u001b[1;33m\u001b[0m\u001b[0m\n\u001b[0m\u001b[0;32m     62\u001b[0m \u001b[1;33m\u001b[0m\u001b[0m\n\u001b[0;32m     63\u001b[0m \u001b[1;33m\u001b[0m\u001b[0m\n",
      "\u001b[1;32m~\\AppData\\Roaming\\Python\\Python36\\site-packages\\requests\\sessions.py\u001b[0m in \u001b[0;36mrequest\u001b[1;34m(self, method, url, params, data, headers, cookies, files, auth, timeout, allow_redirects, proxies, hooks, stream, verify, cert, json)\u001b[0m\n\u001b[0;32m    528\u001b[0m         }\n\u001b[0;32m    529\u001b[0m         \u001b[0msend_kwargs\u001b[0m\u001b[1;33m.\u001b[0m\u001b[0mupdate\u001b[0m\u001b[1;33m(\u001b[0m\u001b[0msettings\u001b[0m\u001b[1;33m)\u001b[0m\u001b[1;33m\u001b[0m\u001b[0m\n\u001b[1;32m--> 530\u001b[1;33m         \u001b[0mresp\u001b[0m \u001b[1;33m=\u001b[0m \u001b[0mself\u001b[0m\u001b[1;33m.\u001b[0m\u001b[0msend\u001b[0m\u001b[1;33m(\u001b[0m\u001b[0mprep\u001b[0m\u001b[1;33m,\u001b[0m \u001b[1;33m**\u001b[0m\u001b[0msend_kwargs\u001b[0m\u001b[1;33m)\u001b[0m\u001b[1;33m\u001b[0m\u001b[0m\n\u001b[0m\u001b[0;32m    531\u001b[0m \u001b[1;33m\u001b[0m\u001b[0m\n\u001b[0;32m    532\u001b[0m         \u001b[1;32mreturn\u001b[0m \u001b[0mresp\u001b[0m\u001b[1;33m\u001b[0m\u001b[0m\n",
      "\u001b[1;32m~\\AppData\\Roaming\\Python\\Python36\\site-packages\\requests\\sessions.py\u001b[0m in \u001b[0;36msend\u001b[1;34m(self, request, **kwargs)\u001b[0m\n\u001b[0;32m    641\u001b[0m \u001b[1;33m\u001b[0m\u001b[0m\n\u001b[0;32m    642\u001b[0m         \u001b[1;31m# Send the request\u001b[0m\u001b[1;33m\u001b[0m\u001b[1;33m\u001b[0m\u001b[0m\n\u001b[1;32m--> 643\u001b[1;33m         \u001b[0mr\u001b[0m \u001b[1;33m=\u001b[0m \u001b[0madapter\u001b[0m\u001b[1;33m.\u001b[0m\u001b[0msend\u001b[0m\u001b[1;33m(\u001b[0m\u001b[0mrequest\u001b[0m\u001b[1;33m,\u001b[0m \u001b[1;33m**\u001b[0m\u001b[0mkwargs\u001b[0m\u001b[1;33m)\u001b[0m\u001b[1;33m\u001b[0m\u001b[0m\n\u001b[0m\u001b[0;32m    644\u001b[0m \u001b[1;33m\u001b[0m\u001b[0m\n\u001b[0;32m    645\u001b[0m         \u001b[1;31m# Total elapsed time of the request (approximately)\u001b[0m\u001b[1;33m\u001b[0m\u001b[1;33m\u001b[0m\u001b[0m\n",
      "\u001b[1;32m~\\AppData\\Roaming\\Python\\Python36\\site-packages\\requests\\adapters.py\u001b[0m in \u001b[0;36msend\u001b[1;34m(self, request, stream, timeout, verify, cert, proxies)\u001b[0m\n\u001b[0;32m    447\u001b[0m                     \u001b[0mdecode_content\u001b[0m\u001b[1;33m=\u001b[0m\u001b[1;32mFalse\u001b[0m\u001b[1;33m,\u001b[0m\u001b[1;33m\u001b[0m\u001b[0m\n\u001b[0;32m    448\u001b[0m                     \u001b[0mretries\u001b[0m\u001b[1;33m=\u001b[0m\u001b[0mself\u001b[0m\u001b[1;33m.\u001b[0m\u001b[0mmax_retries\u001b[0m\u001b[1;33m,\u001b[0m\u001b[1;33m\u001b[0m\u001b[0m\n\u001b[1;32m--> 449\u001b[1;33m                     \u001b[0mtimeout\u001b[0m\u001b[1;33m=\u001b[0m\u001b[0mtimeout\u001b[0m\u001b[1;33m\u001b[0m\u001b[0m\n\u001b[0m\u001b[0;32m    450\u001b[0m                 )\n\u001b[0;32m    451\u001b[0m \u001b[1;33m\u001b[0m\u001b[0m\n",
      "\u001b[1;32m~\\Anaconda3\\lib\\site-packages\\urllib3\\connectionpool.py\u001b[0m in \u001b[0;36murlopen\u001b[1;34m(self, method, url, body, headers, retries, redirect, assert_same_host, timeout, pool_timeout, release_conn, chunked, body_pos, **response_kw)\u001b[0m\n\u001b[0;32m    599\u001b[0m                                                   \u001b[0mtimeout\u001b[0m\u001b[1;33m=\u001b[0m\u001b[0mtimeout_obj\u001b[0m\u001b[1;33m,\u001b[0m\u001b[1;33m\u001b[0m\u001b[0m\n\u001b[0;32m    600\u001b[0m                                                   \u001b[0mbody\u001b[0m\u001b[1;33m=\u001b[0m\u001b[0mbody\u001b[0m\u001b[1;33m,\u001b[0m \u001b[0mheaders\u001b[0m\u001b[1;33m=\u001b[0m\u001b[0mheaders\u001b[0m\u001b[1;33m,\u001b[0m\u001b[1;33m\u001b[0m\u001b[0m\n\u001b[1;32m--> 601\u001b[1;33m                                                   chunked=chunked)\n\u001b[0m\u001b[0;32m    602\u001b[0m \u001b[1;33m\u001b[0m\u001b[0m\n\u001b[0;32m    603\u001b[0m             \u001b[1;31m# If we're going to release the connection in ``finally:``, then\u001b[0m\u001b[1;33m\u001b[0m\u001b[1;33m\u001b[0m\u001b[0m\n",
      "\u001b[1;32m~\\Anaconda3\\lib\\site-packages\\urllib3\\connectionpool.py\u001b[0m in \u001b[0;36m_make_request\u001b[1;34m(self, conn, method, url, timeout, chunked, **httplib_request_kw)\u001b[0m\n\u001b[0;32m    381\u001b[0m             \u001b[1;32mexcept\u001b[0m \u001b[0mTypeError\u001b[0m\u001b[1;33m:\u001b[0m  \u001b[1;31m# Python 2.6 and older, Python 3\u001b[0m\u001b[1;33m\u001b[0m\u001b[0m\n\u001b[0;32m    382\u001b[0m                 \u001b[1;32mtry\u001b[0m\u001b[1;33m:\u001b[0m\u001b[1;33m\u001b[0m\u001b[0m\n\u001b[1;32m--> 383\u001b[1;33m                     \u001b[0mhttplib_response\u001b[0m \u001b[1;33m=\u001b[0m \u001b[0mconn\u001b[0m\u001b[1;33m.\u001b[0m\u001b[0mgetresponse\u001b[0m\u001b[1;33m(\u001b[0m\u001b[1;33m)\u001b[0m\u001b[1;33m\u001b[0m\u001b[0m\n\u001b[0m\u001b[0;32m    384\u001b[0m                 \u001b[1;32mexcept\u001b[0m \u001b[0mException\u001b[0m \u001b[1;32mas\u001b[0m \u001b[0me\u001b[0m\u001b[1;33m:\u001b[0m\u001b[1;33m\u001b[0m\u001b[0m\n\u001b[0;32m    385\u001b[0m                     \u001b[1;31m# Remove the TypeError from the exception chain in Python 3;\u001b[0m\u001b[1;33m\u001b[0m\u001b[1;33m\u001b[0m\u001b[0m\n",
      "\u001b[1;32m~\\Anaconda3\\lib\\http\\client.py\u001b[0m in \u001b[0;36mgetresponse\u001b[1;34m(self)\u001b[0m\n\u001b[0;32m   1329\u001b[0m         \u001b[1;32mtry\u001b[0m\u001b[1;33m:\u001b[0m\u001b[1;33m\u001b[0m\u001b[0m\n\u001b[0;32m   1330\u001b[0m             \u001b[1;32mtry\u001b[0m\u001b[1;33m:\u001b[0m\u001b[1;33m\u001b[0m\u001b[0m\n\u001b[1;32m-> 1331\u001b[1;33m                 \u001b[0mresponse\u001b[0m\u001b[1;33m.\u001b[0m\u001b[0mbegin\u001b[0m\u001b[1;33m(\u001b[0m\u001b[1;33m)\u001b[0m\u001b[1;33m\u001b[0m\u001b[0m\n\u001b[0m\u001b[0;32m   1332\u001b[0m             \u001b[1;32mexcept\u001b[0m \u001b[0mConnectionError\u001b[0m\u001b[1;33m:\u001b[0m\u001b[1;33m\u001b[0m\u001b[0m\n\u001b[0;32m   1333\u001b[0m                 \u001b[0mself\u001b[0m\u001b[1;33m.\u001b[0m\u001b[0mclose\u001b[0m\u001b[1;33m(\u001b[0m\u001b[1;33m)\u001b[0m\u001b[1;33m\u001b[0m\u001b[0m\n",
      "\u001b[1;32m~\\Anaconda3\\lib\\http\\client.py\u001b[0m in \u001b[0;36mbegin\u001b[1;34m(self)\u001b[0m\n\u001b[0;32m    295\u001b[0m         \u001b[1;31m# read until we get a non-100 response\u001b[0m\u001b[1;33m\u001b[0m\u001b[1;33m\u001b[0m\u001b[0m\n\u001b[0;32m    296\u001b[0m         \u001b[1;32mwhile\u001b[0m \u001b[1;32mTrue\u001b[0m\u001b[1;33m:\u001b[0m\u001b[1;33m\u001b[0m\u001b[0m\n\u001b[1;32m--> 297\u001b[1;33m             \u001b[0mversion\u001b[0m\u001b[1;33m,\u001b[0m \u001b[0mstatus\u001b[0m\u001b[1;33m,\u001b[0m \u001b[0mreason\u001b[0m \u001b[1;33m=\u001b[0m \u001b[0mself\u001b[0m\u001b[1;33m.\u001b[0m\u001b[0m_read_status\u001b[0m\u001b[1;33m(\u001b[0m\u001b[1;33m)\u001b[0m\u001b[1;33m\u001b[0m\u001b[0m\n\u001b[0m\u001b[0;32m    298\u001b[0m             \u001b[1;32mif\u001b[0m \u001b[0mstatus\u001b[0m \u001b[1;33m!=\u001b[0m \u001b[0mCONTINUE\u001b[0m\u001b[1;33m:\u001b[0m\u001b[1;33m\u001b[0m\u001b[0m\n\u001b[0;32m    299\u001b[0m                 \u001b[1;32mbreak\u001b[0m\u001b[1;33m\u001b[0m\u001b[0m\n",
      "\u001b[1;32m~\\Anaconda3\\lib\\http\\client.py\u001b[0m in \u001b[0;36m_read_status\u001b[1;34m(self)\u001b[0m\n\u001b[0;32m    256\u001b[0m \u001b[1;33m\u001b[0m\u001b[0m\n\u001b[0;32m    257\u001b[0m     \u001b[1;32mdef\u001b[0m \u001b[0m_read_status\u001b[0m\u001b[1;33m(\u001b[0m\u001b[0mself\u001b[0m\u001b[1;33m)\u001b[0m\u001b[1;33m:\u001b[0m\u001b[1;33m\u001b[0m\u001b[0m\n\u001b[1;32m--> 258\u001b[1;33m         \u001b[0mline\u001b[0m \u001b[1;33m=\u001b[0m \u001b[0mstr\u001b[0m\u001b[1;33m(\u001b[0m\u001b[0mself\u001b[0m\u001b[1;33m.\u001b[0m\u001b[0mfp\u001b[0m\u001b[1;33m.\u001b[0m\u001b[0mreadline\u001b[0m\u001b[1;33m(\u001b[0m\u001b[0m_MAXLINE\u001b[0m \u001b[1;33m+\u001b[0m \u001b[1;36m1\u001b[0m\u001b[1;33m)\u001b[0m\u001b[1;33m,\u001b[0m \u001b[1;34m\"iso-8859-1\"\u001b[0m\u001b[1;33m)\u001b[0m\u001b[1;33m\u001b[0m\u001b[0m\n\u001b[0m\u001b[0;32m    259\u001b[0m         \u001b[1;32mif\u001b[0m \u001b[0mlen\u001b[0m\u001b[1;33m(\u001b[0m\u001b[0mline\u001b[0m\u001b[1;33m)\u001b[0m \u001b[1;33m>\u001b[0m \u001b[0m_MAXLINE\u001b[0m\u001b[1;33m:\u001b[0m\u001b[1;33m\u001b[0m\u001b[0m\n\u001b[0;32m    260\u001b[0m             \u001b[1;32mraise\u001b[0m \u001b[0mLineTooLong\u001b[0m\u001b[1;33m(\u001b[0m\u001b[1;34m\"status line\"\u001b[0m\u001b[1;33m)\u001b[0m\u001b[1;33m\u001b[0m\u001b[0m\n",
      "\u001b[1;32m~\\Anaconda3\\lib\\socket.py\u001b[0m in \u001b[0;36mreadinto\u001b[1;34m(self, b)\u001b[0m\n\u001b[0;32m    584\u001b[0m         \u001b[1;32mwhile\u001b[0m \u001b[1;32mTrue\u001b[0m\u001b[1;33m:\u001b[0m\u001b[1;33m\u001b[0m\u001b[0m\n\u001b[0;32m    585\u001b[0m             \u001b[1;32mtry\u001b[0m\u001b[1;33m:\u001b[0m\u001b[1;33m\u001b[0m\u001b[0m\n\u001b[1;32m--> 586\u001b[1;33m                 \u001b[1;32mreturn\u001b[0m \u001b[0mself\u001b[0m\u001b[1;33m.\u001b[0m\u001b[0m_sock\u001b[0m\u001b[1;33m.\u001b[0m\u001b[0mrecv_into\u001b[0m\u001b[1;33m(\u001b[0m\u001b[0mb\u001b[0m\u001b[1;33m)\u001b[0m\u001b[1;33m\u001b[0m\u001b[0m\n\u001b[0m\u001b[0;32m    587\u001b[0m             \u001b[1;32mexcept\u001b[0m \u001b[0mtimeout\u001b[0m\u001b[1;33m:\u001b[0m\u001b[1;33m\u001b[0m\u001b[0m\n\u001b[0;32m    588\u001b[0m                 \u001b[0mself\u001b[0m\u001b[1;33m.\u001b[0m\u001b[0m_timeout_occurred\u001b[0m \u001b[1;33m=\u001b[0m \u001b[1;32mTrue\u001b[0m\u001b[1;33m\u001b[0m\u001b[0m\n",
      "\u001b[1;32m~\\Anaconda3\\lib\\ssl.py\u001b[0m in \u001b[0;36mrecv_into\u001b[1;34m(self, buffer, nbytes, flags)\u001b[0m\n\u001b[0;32m   1007\u001b[0m                   \u001b[1;34m\"non-zero flags not allowed in calls to recv_into() on %s\"\u001b[0m \u001b[1;33m%\u001b[0m\u001b[1;33m\u001b[0m\u001b[0m\n\u001b[0;32m   1008\u001b[0m                   self.__class__)\n\u001b[1;32m-> 1009\u001b[1;33m             \u001b[1;32mreturn\u001b[0m \u001b[0mself\u001b[0m\u001b[1;33m.\u001b[0m\u001b[0mread\u001b[0m\u001b[1;33m(\u001b[0m\u001b[0mnbytes\u001b[0m\u001b[1;33m,\u001b[0m \u001b[0mbuffer\u001b[0m\u001b[1;33m)\u001b[0m\u001b[1;33m\u001b[0m\u001b[0m\n\u001b[0m\u001b[0;32m   1010\u001b[0m         \u001b[1;32melse\u001b[0m\u001b[1;33m:\u001b[0m\u001b[1;33m\u001b[0m\u001b[0m\n\u001b[0;32m   1011\u001b[0m             \u001b[1;32mreturn\u001b[0m \u001b[0msocket\u001b[0m\u001b[1;33m.\u001b[0m\u001b[0mrecv_into\u001b[0m\u001b[1;33m(\u001b[0m\u001b[0mself\u001b[0m\u001b[1;33m,\u001b[0m \u001b[0mbuffer\u001b[0m\u001b[1;33m,\u001b[0m \u001b[0mnbytes\u001b[0m\u001b[1;33m,\u001b[0m \u001b[0mflags\u001b[0m\u001b[1;33m)\u001b[0m\u001b[1;33m\u001b[0m\u001b[0m\n",
      "\u001b[1;32m~\\Anaconda3\\lib\\ssl.py\u001b[0m in \u001b[0;36mread\u001b[1;34m(self, len, buffer)\u001b[0m\n\u001b[0;32m    869\u001b[0m             \u001b[1;32mraise\u001b[0m \u001b[0mValueError\u001b[0m\u001b[1;33m(\u001b[0m\u001b[1;34m\"Read on closed or unwrapped SSL socket.\"\u001b[0m\u001b[1;33m)\u001b[0m\u001b[1;33m\u001b[0m\u001b[0m\n\u001b[0;32m    870\u001b[0m         \u001b[1;32mtry\u001b[0m\u001b[1;33m:\u001b[0m\u001b[1;33m\u001b[0m\u001b[0m\n\u001b[1;32m--> 871\u001b[1;33m             \u001b[1;32mreturn\u001b[0m \u001b[0mself\u001b[0m\u001b[1;33m.\u001b[0m\u001b[0m_sslobj\u001b[0m\u001b[1;33m.\u001b[0m\u001b[0mread\u001b[0m\u001b[1;33m(\u001b[0m\u001b[0mlen\u001b[0m\u001b[1;33m,\u001b[0m \u001b[0mbuffer\u001b[0m\u001b[1;33m)\u001b[0m\u001b[1;33m\u001b[0m\u001b[0m\n\u001b[0m\u001b[0;32m    872\u001b[0m         \u001b[1;32mexcept\u001b[0m \u001b[0mSSLError\u001b[0m \u001b[1;32mas\u001b[0m \u001b[0mx\u001b[0m\u001b[1;33m:\u001b[0m\u001b[1;33m\u001b[0m\u001b[0m\n\u001b[0;32m    873\u001b[0m             \u001b[1;32mif\u001b[0m \u001b[0mx\u001b[0m\u001b[1;33m.\u001b[0m\u001b[0margs\u001b[0m\u001b[1;33m[\u001b[0m\u001b[1;36m0\u001b[0m\u001b[1;33m]\u001b[0m \u001b[1;33m==\u001b[0m \u001b[0mSSL_ERROR_EOF\u001b[0m \u001b[1;32mand\u001b[0m \u001b[0mself\u001b[0m\u001b[1;33m.\u001b[0m\u001b[0msuppress_ragged_eofs\u001b[0m\u001b[1;33m:\u001b[0m\u001b[1;33m\u001b[0m\u001b[0m\n",
      "\u001b[1;32m~\\Anaconda3\\lib\\ssl.py\u001b[0m in \u001b[0;36mread\u001b[1;34m(self, len, buffer)\u001b[0m\n\u001b[0;32m    629\u001b[0m         \"\"\"\n\u001b[0;32m    630\u001b[0m         \u001b[1;32mif\u001b[0m \u001b[0mbuffer\u001b[0m \u001b[1;32mis\u001b[0m \u001b[1;32mnot\u001b[0m \u001b[1;32mNone\u001b[0m\u001b[1;33m:\u001b[0m\u001b[1;33m\u001b[0m\u001b[0m\n\u001b[1;32m--> 631\u001b[1;33m             \u001b[0mv\u001b[0m \u001b[1;33m=\u001b[0m \u001b[0mself\u001b[0m\u001b[1;33m.\u001b[0m\u001b[0m_sslobj\u001b[0m\u001b[1;33m.\u001b[0m\u001b[0mread\u001b[0m\u001b[1;33m(\u001b[0m\u001b[0mlen\u001b[0m\u001b[1;33m,\u001b[0m \u001b[0mbuffer\u001b[0m\u001b[1;33m)\u001b[0m\u001b[1;33m\u001b[0m\u001b[0m\n\u001b[0m\u001b[0;32m    632\u001b[0m         \u001b[1;32melse\u001b[0m\u001b[1;33m:\u001b[0m\u001b[1;33m\u001b[0m\u001b[0m\n\u001b[0;32m    633\u001b[0m             \u001b[0mv\u001b[0m \u001b[1;33m=\u001b[0m \u001b[0mself\u001b[0m\u001b[1;33m.\u001b[0m\u001b[0m_sslobj\u001b[0m\u001b[1;33m.\u001b[0m\u001b[0mread\u001b[0m\u001b[1;33m(\u001b[0m\u001b[0mlen\u001b[0m\u001b[1;33m)\u001b[0m\u001b[1;33m\u001b[0m\u001b[0m\n",
      "\u001b[1;31mKeyboardInterrupt\u001b[0m: "
     ]
    }
   ],
   "source": [
    "# Now get predictions for each of the images:\n",
    "for row_i in range(len(df.index)):\n",
    "    # Assemble the hyperlink to the image and request it:\n",
    "    photo_id = df.loc[row_i, 'ID']\n",
    "    image_url = waarneming_url + photo_id + '.jpg'\n",
    "    image_r = rq.get(image_url, stream=True)\n",
    "    \n",
    "    # Store the image:\n",
    "    temp_img = open('temp_img.jpg', 'wb')\n",
    "    temp_img.write(image_r.content)\n",
    "    temp_img.close()\n",
    "    \n",
    "    # Retrieve the AI4Earth prediction for the image:\n",
    "    image_data = open('temp_img.jpg', 'rb')\n",
    "    result = get_api_response(image_data)\n",
    "    \n",
    "    # Dissect the response:\n",
    "    predictions = result[0]['predictions']\n",
    "    is_first_item = True \n",
    "    for pred_i, item in enumerate(predictions):\n",
    "        species, species_common, prob = take_info_from_prediction(item)\n",
    "        if pred_i == 0:\n",
    "            print(row_i, \":\", df.loc[row_i, 'Scientific'], \"| Prediction:\", species)\n",
    "        df.at[row_i, 'ScientificPred'+str(pred_i)] = species\n",
    "        df.at[row_i, 'CommonPred'+str(pred_i)] = species_common\n",
    "        df.at[row_i, 'ProbPred'+str(pred_i)] = prob\n"
   ]
  },
  {
   "cell_type": "code",
   "execution_count": 43,
   "metadata": {
    "scrolled": true
   },
   "outputs": [
    {
     "name": "stdout",
     "output_type": "stream",
     "text": [
      "4272 : Acanthis flammea | Prediction: Acanthis flammea\n",
      "4273 : Acanthis flammea | Prediction: Acanthis flammea\n",
      "4274 : Acanthis flammea | Prediction: Setophaga coronata auduboni\n",
      "4275 : Acanthis flammea | Prediction: Acanthis flammea\n",
      "4276 : Acanthis flammea | Prediction: Dumetella carolinensis\n",
      "4277 : Acanthis flammea | Prediction: Acanthis flammea\n",
      "4278 : Acanthis flammea | Prediction: Acanthis flammea\n",
      "4279 : Acanthis flammea | Prediction: Acanthis flammea\n",
      "4280 : Acanthis flammea | Prediction: Acanthis flammea\n",
      "4281 : Acanthis flammea | Prediction: Acanthis flammea\n",
      "4282 : Acanthis flammea | Prediction: Spinus pinus\n",
      "4283 : Acanthis flammea | Prediction: Acanthis flammea\n",
      "4284 : Acanthis flammea | Prediction: Betula populifolia\n",
      "4285 : Acanthis flammea | Prediction: Fringilla montifringilla\n",
      "4286 : Acanthis flammea | Prediction: Acanthis flammea\n",
      "4287 : Acanthis flammea | Prediction: Falco tinnunculus\n",
      "4288 : Acanthis flammea | Prediction: Acanthis flammea\n",
      "4289 : Acanthis flammea | Prediction: Phylloscopus collybita\n",
      "4290 : Acanthis flammea | Prediction: Carduelis carduelis\n",
      "4291 : Acanthis flammea | Prediction: Acanthis flammea\n",
      "4292 : Acanthis flammea | Prediction: Zonotrichia leucophrys\n",
      "4293 : Acanthis flammea | Prediction: Acanthis flammea\n",
      "4294 : Acanthis flammea | Prediction: Acanthis flammea\n",
      "4295 : Acanthis flammea | Prediction: Acanthis flammea\n",
      "4296 : Calcarius lapponicus | Prediction: Calcarius lapponicus\n",
      "4297 : Calcarius lapponicus | Prediction: Calcarius lapponicus\n",
      "4298 : Calcarius lapponicus | Prediction: Calcarius lapponicus\n",
      "4299 : Calcarius lapponicus | Prediction: Plectrophenax nivalis\n",
      "4300 : Calcarius lapponicus | Prediction: Calcarius lapponicus\n",
      "4301 : Calcarius lapponicus | Prediction: Calcarius lapponicus\n",
      "4302 : Calcarius lapponicus | Prediction: Calcarius lapponicus\n",
      "4303 : Calcarius lapponicus | Prediction: Calcarius lapponicus\n",
      "4304 : Calcarius lapponicus | Prediction: Calcarius lapponicus\n",
      "4305 : Calcarius lapponicus | Prediction: Calcarius lapponicus\n",
      "4306 : Calcarius lapponicus | Prediction: Calcarius lapponicus\n",
      "4307 : Calcarius lapponicus | Prediction: Petrochelidon fulva\n",
      "4308 : Calcarius lapponicus | Prediction: Petrochelidon pyrrhonota\n",
      "4309 : Calcarius lapponicus | Prediction: Anthus pratensis\n",
      "4310 : Calcarius lapponicus | Prediction: Passer montanus\n",
      "4311 : Calcarius lapponicus | Prediction: Calcarius lapponicus\n",
      "4312 : Calcarius lapponicus | Prediction: Botaurus lentiginosus\n",
      "4313 : Calcarius lapponicus | Prediction: Calcarius lapponicus\n",
      "4314 : Calcarius lapponicus | Prediction: Calcarius lapponicus\n",
      "4315 : Calcarius lapponicus | Prediction: Calcarius lapponicus\n",
      "4316 : Calcarius lapponicus | Prediction: Calcarius lapponicus\n",
      "4317 : Calcarius lapponicus | Prediction: Calcarius lapponicus\n",
      "4318 : Calcarius lapponicus | Prediction: Petrochelidon fulva\n",
      "4319 : Calcarius lapponicus | Prediction: Calcarius lapponicus\n",
      "4320 : Plectrophenax nivalis | Prediction: Plectrophenax nivalis\n",
      "4321 : Plectrophenax nivalis | Prediction: Plectrophenax nivalis\n",
      "4322 : Plectrophenax nivalis | Prediction: Plectrophenax nivalis\n",
      "4323 : Plectrophenax nivalis | Prediction: Plectrophenax nivalis\n",
      "4324 : Plectrophenax nivalis | Prediction: Plectrophenax nivalis\n",
      "4325 : Plectrophenax nivalis | Prediction: Plectrophenax nivalis\n",
      "4326 : Plectrophenax nivalis | Prediction: Plectrophenax nivalis\n",
      "4327 : Plectrophenax nivalis | Prediction: Plectrophenax nivalis\n",
      "4328 : Plectrophenax nivalis | Prediction: Plectrophenax nivalis\n",
      "4329 : Plectrophenax nivalis | Prediction: Plectrophenax nivalis\n",
      "4330 : Plectrophenax nivalis | Prediction: Plectrophenax nivalis\n",
      "4331 : Plectrophenax nivalis | Prediction: Plectrophenax nivalis\n",
      "4332 : Plectrophenax nivalis | Prediction: Plectrophenax nivalis\n",
      "4333 : Plectrophenax nivalis | Prediction: Plectrophenax nivalis\n",
      "4334 : Plectrophenax nivalis | Prediction: Plectrophenax nivalis\n",
      "4335 : Plectrophenax nivalis | Prediction: Plectrophenax nivalis\n",
      "4336 : Plectrophenax nivalis | Prediction: Plectrophenax nivalis\n",
      "4337 : Plectrophenax nivalis | Prediction: Plectrophenax nivalis\n",
      "4338 : Plectrophenax nivalis | Prediction: Plectrophenax nivalis\n",
      "4339 : Plectrophenax nivalis | Prediction: Plectrophenax nivalis\n",
      "4340 : Plectrophenax nivalis | Prediction: Plectrophenax nivalis\n",
      "4341 : Plectrophenax nivalis | Prediction: Plectrophenax nivalis\n",
      "4342 : Plectrophenax nivalis | Prediction: Plectrophenax nivalis\n",
      "4343 : Plectrophenax nivalis | Prediction: Plectrophenax nivalis\n"
     ]
    }
   ],
   "source": [
    "# Now get predictions for each of the images:\n",
    "for row_i in range(4272, len(df.index)):\n",
    "    # Assemble the hyperlink to the image and request it:\n",
    "    photo_id = df.loc[row_i, 'ID']\n",
    "    image_url = waarneming_url + photo_id + '.jpg'\n",
    "    image_r = rq.get(image_url, stream=True)\n",
    "    \n",
    "    # Store the image:\n",
    "    temp_img = open('temp_img.jpg', 'wb')\n",
    "    temp_img.write(image_r.content)\n",
    "    temp_img.close()\n",
    "    \n",
    "    # Retrieve the AI4Earth prediction for the image:\n",
    "    image_data = open('temp_img.jpg', 'rb')\n",
    "    \n",
    "    result = get_api_response(image_data)\n",
    "#     fault = True\n",
    "#     while fault:\n",
    "#         result = get_api_response(image_data)\n",
    "#         fault = result[1]\n",
    "    \n",
    "    # Dissect the response:\n",
    "    predictions = result[0]['predictions']\n",
    "    is_first_item = True \n",
    "    for pred_i, item in enumerate(predictions):\n",
    "        species, species_common, prob = take_info_from_prediction(item)\n",
    "        if pred_i == 0:\n",
    "            print(row_i, \":\", df.loc[row_i, 'Scientific'], \"| Prediction:\", species)\n",
    "        df.at[row_i, 'ScientificPred'+str(pred_i)] = species\n",
    "        df.at[row_i, 'CommonPred'+str(pred_i)] = species_common\n",
    "        df.at[row_i, 'ProbPred'+str(pred_i)] = prob\n",
    "    \n",
    "    if row_i % 50 == 0:  # Save it every now and then:\n",
    "        df.to_csv(\"PredictedSpecies.txt\", index=False)\n",
    "\n",
    "# Save it at the end:        \n",
    "df.to_csv(\"PredictedSpecies.txt\", index=False)\n"
   ]
  },
  {
   "cell_type": "code",
   "execution_count": 29,
   "metadata": {},
   "outputs": [],
   "source": [
    "df.to_csv(\"PredictedSpecies.txt\", index=False)\n",
    "# 1601 and 1602 went wrong, 3207, 4271\n"
   ]
  }
 ],
 "metadata": {
  "kernelspec": {
   "display_name": "Python 3",
   "language": "python",
   "name": "python3"
  },
  "language_info": {
   "codemirror_mode": {
    "name": "ipython",
    "version": 3
   },
   "file_extension": ".py",
   "mimetype": "text/x-python",
   "name": "python",
   "nbconvert_exporter": "python",
   "pygments_lexer": "ipython3",
   "version": "3.6.5"
  }
 },
 "nbformat": 4,
 "nbformat_minor": 2
}
